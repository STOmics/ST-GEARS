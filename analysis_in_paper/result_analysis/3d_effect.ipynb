{
 "cells": [
  {
   "cell_type": "code",
   "execution_count": 1,
   "id": "cb93357d",
   "metadata": {},
   "outputs": [],
   "source": [
    "import anndata\n",
    "import os\n",
    "import numpy as np\n",
    "import k3d\n",
    "import scipy\n",
    "import matplotlib as mpl\n",
    "\n",
    "from k3d.colormaps import matplotlib_color_maps"
   ]
  },
  {
   "cell_type": "markdown",
   "id": "5869d341",
   "metadata": {},
   "source": [
    "plot abrabidopsis leaves in 3d，including its stereogram and left view"
   ]
  },
  {
   "cell_type": "code",
   "execution_count": null,
   "id": "edeb94a1",
   "metadata": {},
   "outputs": [],
   "source": [
    "dir = 'E:/REGISTRATION_SOFTWARE/algorithm/cell_level_regist/paper/output_data/our_pipeline/abra_leaves_ours/'\n",
    "ctype_col ='cell_type'\n",
    "spa_col = 'spatial_elas'\n",
    "\n",
    "# read in\n",
    "fli = [int(fname.replace('.h5ad', '')) for fname in os.listdir(dir) if fname.endswith('.h5ad')]\n",
    "fli.sort()\n",
    "fli = [str(fname)+'.h5ad' for fname in fli]\n",
    "\n",
    "spa = np.zeros((1, 3))\n",
    "cli = []\n",
    "for i, fname in enumerate(fli):\n",
    "    adata = anndata.read(os.path.join(dir, fname))\n",
    "    adata.obsm[spa_col][:,2] = adata.obsm[spa_col][:,2]  * i * 200\n",
    "    spa = np.concatenate((spa, adata.obsm[spa_col]), axis=0)\n",
    "    # keep the same rule of ctype_all generation, as when anncell_color (dic) is generated, in visualization.py, so we can skip the legend generation in k3d, also keep the consistancy of color assignment\n",
    "    cli += adata.obs[ctype_col].tolist()\n",
    "    \n",
    "spa = spa[ 1:, :]\n",
    "\n",
    "\n",
    "anno_cell_li = list(dict.fromkeys(cli))\n",
    "anncell_cid = dict(zip(anno_cell_li, range(len(anno_cell_li))))"
   ]
  },
  {
   "cell_type": "code",
   "execution_count": null,
   "id": "c6a5d7ac",
   "metadata": {},
   "outputs": [],
   "source": [
    "anncell_cid"
   ]
  },
  {
   "cell_type": "code",
   "execution_count": null,
   "id": "b93dbc4e",
   "metadata": {},
   "outputs": [],
   "source": [
    "plt_points = k3d.points(\n",
    "                                            positions=spa, \n",
    "                                            point_size=50, \n",
    "                                            shader='3d', \n",
    "                                            opacity=1, \n",
    "                                            color_map = matplotlib_color_maps.Rainbow,\n",
    "                                            attribute=[anncell_cid[ele] for ele in cli]\n",
    "                                        )  # color_range用于展示特定细胞类型\n",
    "plot = k3d.plot()\n",
    "plot += plt_points\n",
    "plot.display()"
   ]
  },
  {
   "cell_type": "markdown",
   "id": "1396c791",
   "metadata": {},
   "source": [
    "plot left view of drosophila embryo, before and after elastic registration, maybe its mark genes"
   ]
  },
  {
   "cell_type": "code",
   "execution_count": 14,
   "id": "709f62d4",
   "metadata": {},
   "outputs": [],
   "source": [
    "dir = 'E:/REGISTRATION_SOFTWARE/algorithm/cell_level_regist/paper/output_data/our_pipeline/drosophila_embryo_ours'\n",
    "ctype_col = 'annotation'\n",
    "spa_col = 'spatial_elas'\n",
    "gene_name_li = ['Rbp6'] #['Cpr56F']# ['Osi7']   #  # \n",
    "\n",
    "# read in\n",
    "fli = [int(fname.replace('.h5ad', '')) for fname in os.listdir(dir) if fname.endswith('.h5ad')]\n",
    "fli.sort()\n",
    "fli = [str(fname)+'.h5ad' for fname in fli]\n",
    "\n",
    "spa = np.zeros((1, 3))\n",
    "cli = []\n",
    "gene_sum = []\n",
    "for fname in fli:\n",
    "    adata = anndata.read(os.path.join(dir, fname))\n",
    "    spa = np.concatenate((spa, adata.obsm[spa_col]), axis=0)\n",
    "    # keep the same rule of ctype_all generation, as when anncell_color (dic) is generated, in visualization.py, so we can skip the legend generation in k3d, also keep the consistancy of color assignment\n",
    "    cli += adata.obs[ctype_col].tolist()\n",
    "    \n",
    "    # summarize expression count of certain gene(s)\n",
    "    adata_cp = anndata.AnnData(X=adata.X, var=adata.var)\n",
    "    adata_cp.X = adata.layers['raw_counts']\n",
    "    if scipy.sparse.issparse(adata_cp.X):\n",
    "        adata_cp.X = adata_cp.X.todense()\n",
    "    gene_sum += list(adata_cp[:, gene_name_li].X.sum(axis=1))\n",
    "spa = spa[ 1:, :]\n",
    "\n",
    "anno_cell_li = list(dict.fromkeys(cli))\n",
    "anncell_cid = dict(zip(anno_cell_li, range(len(anno_cell_li))))"
   ]
  },
  {
   "cell_type": "code",
   "execution_count": null,
   "id": "3cd1a4d5",
   "metadata": {},
   "outputs": [],
   "source": [
    "set(gene_sum)"
   ]
  },
  {
   "cell_type": "code",
   "execution_count": 13,
   "id": "e2df1df7",
   "metadata": {},
   "outputs": [
    {
     "name": "stderr",
     "output_type": "stream",
     "text": [
      "D:\\anaconda\\envs\\k3d\\lib\\site-packages\\traittypes\\traittypes.py:97: UserWarning: Given trait value dtype \"float64\" does not match required type \"float32\". A coerced copy has been created.\n",
      "  warnings.warn(\n"
     ]
    },
    {
     "data": {
      "application/vnd.jupyter.widget-view+json": {
       "model_id": "8f32d8113bb04223b3b310aafa14cb9b",
       "version_major": 2,
       "version_minor": 0
      },
      "text/plain": [
       "Output()"
      ]
     },
     "metadata": {},
     "output_type": "display_data"
    }
   ],
   "source": [
    "# plot cell type\n",
    "plt_points = k3d.points(\n",
    "                        positions=spa, \n",
    "                        point_size=0.3, \n",
    "                        shader='3d', \n",
    "                        opacity=1, \n",
    "                        color_map = matplotlib_color_maps.Rainbow,\n",
    "                        attribute=[anncell_cid[ele] for ele in cli]\n",
    "                    )  # color_range用于展示特定细胞类型\n",
    "plot = k3d.plot()\n",
    "plot += plt_points\n",
    "plot.display()"
   ]
  },
  {
   "cell_type": "code",
   "execution_count": 17,
   "id": "bc08f0a8",
   "metadata": {},
   "outputs": [
    {
     "data": {
      "application/vnd.jupyter.widget-view+json": {
       "model_id": "46ae512a9733459d8801a19295e0e703",
       "version_major": 2,
       "version_minor": 0
      },
      "text/plain": [
       "Output()"
      ]
     },
     "metadata": {},
     "output_type": "display_data"
    }
   ],
   "source": [
    "ind_ept = np.where(np.array(gene_sum) < 3)  # 3\n",
    "ind_exp = np.where(np.array(gene_sum) >=3)\n",
    "attr_val = np.array(gene_sum)[ind_exp]  # np.log10\n",
    "\n",
    "plt_points_exp = k3d.points(\n",
    "                        positions=spa[ind_exp, :], \n",
    "                        point_size=0.3, \n",
    "                        shader='flat', #'3d', \n",
    "                        opacity=1, \n",
    "                        color_map = matplotlib_color_maps.Purples, #GnBu, # Blues # Purples\n",
    "                        attribute=attr_val, #[anncell_cid[ele] for ele in cli]\n",
    "                        color_range=[-20, attr_val.max()]  # -20, -15\n",
    "                    )  # color_range用于展示特定细胞类型\n",
    "\n",
    "plt_points_ept = k3d.points(\n",
    "                        positions=spa[ind_ept, :], \n",
    "                        point_size=0.05, \n",
    "                        shader='flat', #'3d', \n",
    "                        opacity=1, \n",
    "                        color= 0xffffff)    # 0xDCDCDC\n",
    "\n",
    "plot = k3d.plot() \n",
    "plot += plt_points_exp\n",
    "plot += plt_points_ept\n",
    "plot.display()"
   ]
  },
  {
   "cell_type": "markdown",
   "id": "56a990c4",
   "metadata": {},
   "source": [
    "plot left view of drosophila larva, before and after elastic registration, maybe its mark genes"
   ]
  },
  {
   "cell_type": "code",
   "execution_count": 10,
   "id": "4dd1bd42",
   "metadata": {},
   "outputs": [],
   "source": [
    "dir = 'E:/REGISTRATION_SOFTWARE/algorithm/cell_level_regist/paper/output_data/our_pipeline/drosophila_larva_ours'\n",
    "ctype_col = 'annotation'\n",
    "spa_col = 'spatial_elas'\n",
    "# read in\n",
    "fli = [int(fname.replace('.h5ad', '')) for fname in os.listdir(dir) if fname.endswith('.h5ad')]\n",
    "fli.sort()\n",
    "fli = [str(fname)+'.h5ad' for fname in fli]\n",
    "\n",
    "spa = np.zeros((1, 3))\n",
    "cli = []\n",
    "for i, fname in enumerate(fli):\n",
    "    adata = anndata.read(os.path.join(dir, fname))\n",
    "    \n",
    "     # revise z coor for corrected visualization\n",
    "    cor_slice = adata.obsm[spa_col]\n",
    "    cor_slice[:, 2] = i * 2\n",
    "    \n",
    "    spa = np.concatenate((spa, cor_slice), axis=0)\n",
    "    \n",
    "    # keep the same rule of ctype_all generation, as when anncell_color (dic) is generated, in visualization.py, so we can skip the legend generation in k3d, also keep the consistancy of color assignment\n",
    "    cli += adata.obs[ctype_col].tolist()\n",
    "spa = spa[ 1:, :]\n",
    "\n",
    "anno_cell_li = list(dict.fromkeys(cli))\n",
    "# anncell_cid = dict(zip(anno_cell_li, range(len(anno_cell_li))))\n",
    "\n",
    "np.random.seed(10)  # seed_val when generating 2d plot\n",
    "color_arr = mpl.colors.ListedColormap(np.random.rand(len(anno_cell_li), 3)).colors\n",
    "\n",
    "attr_arr = np.arange(len(anno_cell_li))/(len(anno_cell_li)-1)\n",
    "\n",
    "ctype_attr = dict(zip(anno_cell_li, attr_arr))\n",
    "color_map_k3d = np.concatenate([np.expand_dims(attr_arr , axis=1), color_arr], axis=1)"
   ]
  },
  {
   "cell_type": "code",
   "execution_count": null,
   "id": "79a194a5",
   "metadata": {},
   "outputs": [],
   "source": [
    "# x,y  increment = 2.5  -> 25μm (bin50)| 1 -> 10μm\n",
    "# z increment = 20μm -> 2 (bin40)\n"
   ]
  },
  {
   "cell_type": "code",
   "execution_count": 11,
   "id": "611f5b8b",
   "metadata": {
    "scrolled": true
   },
   "outputs": [
    {
     "name": "stderr",
     "output_type": "stream",
     "text": [
      "D:\\anaconda\\envs\\k3d\\lib\\site-packages\\traittypes\\traittypes.py:97: UserWarning: Given trait value dtype \"float64\" does not match required type \"float32\". A coerced copy has been created.\n",
      "  warnings.warn(\n"
     ]
    },
    {
     "data": {
      "application/vnd.jupyter.widget-view+json": {
       "model_id": "f6a67a013e7f49b99c47dd22905a4aad",
       "version_major": 2,
       "version_minor": 0
      },
      "text/plain": [
       "Output()"
      ]
     },
     "metadata": {},
     "output_type": "display_data"
    }
   ],
   "source": [
    "plt_points = k3d.points(\n",
    "                                            positions=spa, \n",
    "                                            point_size=1, \n",
    "                                            shader='3d', \n",
    "                                            opacity=1, \n",
    "                                            color_map = color_map_k3d,  # matplotlib_color_maps.Rainbow,\n",
    "                                            attribute=[ctype_attr[ele] for ele in cli]\n",
    "                                        )  # color_range用于展示特定细胞类型\n",
    "plot = k3d.plot()\n",
    "plot += plt_points\n",
    "plot.display()"
   ]
  },
  {
   "cell_type": "markdown",
   "id": "72642f72",
   "metadata": {},
   "source": [
    "plot mouse embryo in 3d，including its perspective, main view, left view and top view, then stereogram with its mesh"
   ]
  },
  {
   "cell_type": "code",
   "execution_count": null,
   "id": "ef99fc22",
   "metadata": {},
   "outputs": [],
   "source": [
    "dir = 'E:/REGISTRATION_SOFTWARE/algorithm/cell_level_regist/paper/output_data/our_pipeline/mouse_embryo_E11.5_34_70_ours'\n",
    "ctype_col = 'annotation'\n",
    "\n",
    "# read in\n",
    "fli = [int(fname.replace('.h5ad', '')) for fname in os.listdir(dir) if fname.endswith('.h5ad')]\n",
    "fli.sort()\n",
    "fli = [str(fname)+'.h5ad' for fname in fli]\n",
    "\n",
    "spa = np.zeros((1, 3))\n",
    "cli = []\n",
    "for i, fname in enumerate(fli[8:]):  \n",
    "    adata = anndata.read(os.path.join(dir, fname))\n",
    "    \n",
    "     # revise z coor for corrected visualization, pinned to the false z value generated in main_gen_data_mouse_embryo_E11.5.py\n",
    "    cor_slice = adata.obsm['spatial_elas']\n",
    "    cor_slice[:, 2] *= 2\n",
    "    \n",
    "    spa = np.concatenate((spa, cor_slice), axis=0)\n",
    "    \n",
    "    # keep the same rule of ctype_all generation, as when anncell_color (dic) is generated, in visualization.py, so we can skip the legend generation in k3d, also keep the consistancy of color assignment\n",
    "    cli += adata.obs[ctype_col].tolist()\n",
    "spa = spa[ 1:, :]\n",
    "\n",
    "anno_cell_li = list(dict.fromkeys(cli))\n",
    "np.random.seed(14)\n",
    "color_arr = mpl.colors.ListedColormap(np.random.rand(len(anno_cell_li), 3)).colors\n",
    "\n",
    "attr_arr = np.arange(len(anno_cell_li))/(len(anno_cell_li)-1)\n",
    "\n",
    "ctype_attr = dict(zip(anno_cell_li, attr_arr))\n",
    "color_map_k3d = np.concatenate([np.expand_dims(attr_arr , axis=1), color_arr], axis=1)\n",
    "\n",
    "# color_li = cm.rainbow(np.linspace(0, 1, len(anno_cell_li)))\n",
    "# anncell_color = dict(zip(anno_cell_li, color_arr))"
   ]
  },
  {
   "cell_type": "code",
   "execution_count": null,
   "id": "27d435b4",
   "metadata": {},
   "outputs": [],
   "source": [
    "plt_points = k3d.points(\n",
    "                                            positions=spa, \n",
    "                                            point_size=50, \n",
    "                                            shader='3d', \n",
    "                                            opacity=1, \n",
    "                                            color_map = color_map_k3d,\n",
    "                                            attribute=[ctype_attr[ele] for ele in cli]\n",
    "                                        )  # color_range用于展示特定细胞类型\n",
    "plot = k3d.plot(grid=(-6000, -6000, 0, 6000, 6000, 4000))\n",
    "plot += plt_points\n",
    "plot.display()"
   ]
  },
  {
   "cell_type": "markdown",
   "id": "aef8cabe",
   "metadata": {},
   "source": [
    "plot mouse brain in 3d"
   ]
  },
  {
   "cell_type": "code",
   "execution_count": null,
   "id": "06fc4366",
   "metadata": {},
   "outputs": [],
   "source": [
    "def rgb_to_hex(rgb):\n",
    "    return  int('%02x%02x%02x' % rgb, 16)\n",
    "\n",
    "dir = 'E:/REGISTRATION_SOFTWARE/algorithm/cell_level_regist/paper/output_data/our_pipeline/mouse_brain_ours_sigma0.3/'\n",
    "ctype_col ='annotation'\n",
    "spa_col = 'spatial_elas'\n",
    "\n",
    "# read in\n",
    "fli = [int(fname.replace('.h5ad', '')) for fname in os.listdir(dir) if fname.endswith('.h5ad')]\n",
    "fli.sort()\n",
    "fli = [str(fname)+'.h5ad' for fname in fli]\n",
    "\n",
    "spa = np.zeros((1, 3))\n",
    "cli = []\n",
    "for i, fname in enumerate(fli):\n",
    "    adata = anndata.read(os.path.join(dir, fname))\n",
    "    adata.obsm[spa_col][:,2] = adata.obsm[spa_col][:,2]  * i * 200\n",
    "    spa = np.concatenate((spa, adata.obsm[spa_col]), axis=0)\n",
    "    # keep the same rule of ctype_all generation, as when anncell_color (dic) is generated, in visualization.py, so we can skip the legend generation in k3d, also keep the consistancy of color assignment\n",
    "    cli += adata.obs[ctype_col].tolist()\n",
    "    \n",
    "spa = spa[ 1:, :]\n",
    "\n",
    "anno_cell_li = list(dict.fromkeys(cli))\n",
    "seed_val=11\n",
    "np.random.seed(seed_val)\n",
    "color_arr = mpl.colors.ListedColormap(np.random.rand(len(anno_cell_li), 3)).colors * 255\n",
    "color_arr = color_arr.astype(int)\n",
    "\n",
    "anncell_hex = dict(zip(anno_cell_li, [rgb_to_hex(tuple(rgb)) for rgb in color_arr]))"
   ]
  },
  {
   "cell_type": "code",
   "execution_count": null,
   "id": "b0e09976",
   "metadata": {},
   "outputs": [],
   "source": [
    "anncell_hex"
   ]
  },
  {
   "cell_type": "code",
   "execution_count": null,
   "id": "c29cbbe4",
   "metadata": {},
   "outputs": [],
   "source": [
    "plt_points = k3d.points(\n",
    "                                            positions=spa, \n",
    "                                            colors=np.array([anncell_hex[ele] for ele in cli]),\n",
    "                                            point_size=50, \n",
    "                                            shader='3d', \n",
    "                                            opacity=1, \n",
    "                                            # color_map = matplotlib_color_maps.Rainbow,\n",
    "                                            # attribute=[anncell_cid[ele] for ele in cli]\n",
    "                                        )  # color_range用于展示特定细胞类型\n",
    "plot = k3d.plot()\n",
    "plot += plt_points\n",
    "plot.display()"
   ]
  },
  {
   "cell_type": "code",
   "execution_count": null,
   "id": "7d3361fe",
   "metadata": {},
   "outputs": [],
   "source": [
    "anncell_hex"
   ]
  },
  {
   "cell_type": "code",
   "execution_count": null,
   "id": "e6b032e8",
   "metadata": {},
   "outputs": [],
   "source": [
    "celltype = 'L6b'\n",
    "\n",
    "c_arr  = np.array(cli)\n",
    "\n",
    "in_ind = np.where(np.array(c_arr)  == celltype) \n",
    "ex_ind = np.where(np.array(c_arr)  != celltype) \n",
    "\n",
    "plt_points_exp = k3d.points(\n",
    "                                                    positions=spa[in_ind, :], \n",
    "                                                    colors=np.array([anncell_hex[celltype]] * in_ind[0].shape[0]),\n",
    "                                                    point_size=50, \n",
    "                                                    shader='flat', #'3d', \n",
    "                                                    opacity=1\n",
    "                                                )  # color_range用于展示特定细胞类型\n",
    "\n",
    "plt_points_ept = k3d.points(\n",
    "                        positions=spa[ex_ind, :], \n",
    "                        point_size=0.05, \n",
    "                        shader='flat', #'3d', \n",
    "                        opacity=1, \n",
    "                        color= 0xffffff)    # 0xDCDCDC\n",
    "\n",
    "plot = k3d.plot() \n",
    "plot += plt_points_exp\n",
    "plot += plt_points_ept\n",
    "plot.display()"
   ]
  },
  {
   "cell_type": "code",
   "execution_count": null,
   "id": "be9b4cb6",
   "metadata": {},
   "outputs": [],
   "source": [
    "in_ind"
   ]
  }
 ],
 "metadata": {
  "kernelspec": {
   "display_name": "Python 3 (ipykernel)",
   "language": "python",
   "name": "python3"
  },
  "language_info": {
   "codemirror_mode": {
    "name": "ipython",
    "version": 3
   },
   "file_extension": ".py",
   "mimetype": "text/x-python",
   "name": "python",
   "nbconvert_exporter": "python",
   "pygments_lexer": "ipython3",
   "version": "3.8.0"
  }
 },
 "nbformat": 4,
 "nbformat_minor": 5
}
