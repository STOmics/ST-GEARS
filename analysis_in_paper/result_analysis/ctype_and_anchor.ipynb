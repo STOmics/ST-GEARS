{
 "cells": [
  {
   "cell_type": "code",
   "execution_count": null,
   "id": "6fa9e657",
   "metadata": {},
   "outputs": [],
   "source": [
    "import os\n",
    "import sys\n",
    "import anndata\n",
    "import numpy as np\n",
    "import pandas as pd\n",
    "import scipy\n",
    "import matplotlib as mpl\n",
    "\n",
    "import matplotlib.pyplot as plt\n",
    "import matplotlib.cm as cm\n",
    "\n",
    "sys.path.append('E:/REGISTRATION_SOFTWARE/algorithm/cell_level_regist/paper/code/result_analysis/')\n",
    "from visualization import RegisPlotter\n",
    "from visual import RegisAnchorPlotter\n",
    "\n",
    "def read_slices(dir, ctype_col='annotation'):\n",
    "    li_int = [int(fname.split('.')[0]) for fname in os.listdir(dir) if fname.endswith('.h5ad')]\n",
    "    li_int.sort()\n",
    "    \n",
    "    slicesl = []\n",
    "    pili = []\n",
    "    tyli = []\n",
    "    for id in li_int:\n",
    "        adata_path = os.path.join(dir, '{}.h5ad'.format(id))\n",
    "        slice = anndata.read(adata_path)\n",
    "        tyli += list(dict.fromkeys(slice.obs[ctype_col]))\n",
    "        slicesl.append(slice)\n",
    "    \n",
    "        if not id == li_int[-1]:    \n",
    "            pi_path = os.path.join(dir, '{}.npz'.format(id))\n",
    "            if os.path.exists(pi_path):\n",
    "                pi = scipy.sparse.load_npz(pi_path).todense()\n",
    "                pili.append(pi)\n",
    "            else:\n",
    "                pili.append(None)\n",
    "                     \n",
    "    tyli = list(dict.fromkeys(tyli))          \n",
    "    return slicesl, pili, tyli"
   ]
  },
  {
   "cell_type": "code",
   "execution_count": null,
   "id": "79104f88",
   "metadata": {},
   "outputs": [],
   "source": [
    "RegisAnchorPlotter"
   ]
  },
  {
   "cell_type": "markdown",
   "id": "fd51fecc",
   "metadata": {},
   "source": [
    "###### DLPFC"
   ]
  },
  {
   "cell_type": "code",
   "execution_count": null,
   "id": "3fdcb37b",
   "metadata": {},
   "outputs": [],
   "source": [
    "dir_all = 'E:/REGISTRATION_SOFTWARE/algorithm/cell_level_regist/paper/output_data/our_pipeline'\n",
    "tissue_mtd = 'DLPFC_p_2_PASTE2'\n",
    "slicesl, pili, tyli = read_slices(os.path.join(dir_all, tissue_mtd))"
   ]
  },
  {
   "cell_type": "code",
   "execution_count": null,
   "id": "f475804a",
   "metadata": {},
   "outputs": [],
   "source": [
    "slicesl_plt = slicesl[1:4]\n",
    "pili_plt = pili[1:3]\n",
    "\n",
    "rp = RegisAnchorPlotter(num_cols=1, fig_size=(5, 15))\n",
    "rp.plot_scatter_by_grid(slicesl_plt,  pili_plt,  None, [None]*(len(slicesl_plt)-1), \n",
    "                        'to_next', 'strong_anch', 'spatial', True, 'annotation', size=4, cmap='rainbow')  # random # PASTE, ours size=0.7, pad=0.05"
   ]
  },
  {
   "cell_type": "code",
   "execution_count": null,
   "id": "323a000d",
   "metadata": {},
   "outputs": [],
   "source": [
    "rp = RegisPlotter(num_cols=4, fig_size=(15, 3))  # (6,12.5) for4 cols\n",
    "rp.plot_scatter_by_grid(slicesl,   'spatial',  1, seed_val=11, cmap='rainbow', show_legend=True, single_legend=True, pad=1)  # random # PASTE, ours size=0.7, pad=0.05"
   ]
  },
  {
   "cell_type": "markdown",
   "id": "996038f4",
   "metadata": {},
   "source": [
    "##### Drosophila Larva"
   ]
  },
  {
   "cell_type": "code",
   "execution_count": null,
   "id": "25da2082",
   "metadata": {},
   "outputs": [],
   "source": [
    "dir_all = 'E:/REGISTRATION_SOFTWARE/algorithm/cell_level_regist/paper/output_data/our_pipeline'\n",
    "tissue_mtd = 'Drosophila_larva_ours'\n",
    "slicesl, pili, tyli = read_slices(os.path.join(dir_all, tissue_mtd))"
   ]
  },
  {
   "cell_type": "code",
   "execution_count": null,
   "id": "3f661e9d",
   "metadata": {},
   "outputs": [],
   "source": [
    "rp = RegisAnchorPlotter(num_cols=5, fig_size=(10, 17))\n",
    "rp.plot_scatter_by_grid(slicesl,  pili,  None, [None]*(len(slicesl)-1), \n",
    "                        'to_next', 'strong_anch', 'spatial_rigid', True, 'annotation', size=1, cmap='random')  # random # PASTE, ours size=0.7, pad=0.05"
   ]
  },
  {
   "cell_type": "code",
   "execution_count": null,
   "id": "ac6c98c7",
   "metadata": {},
   "outputs": [],
   "source": [
    "rp = RegisPlotter(num_cols=6, fig_size=(11,6))\n",
    "rp.plot_scatter_by_grid(slicesl[:6],  spatype='spatial_elas',  size=1.4, cmap='random', show_legend=False)"
   ]
  },
  {
   "cell_type": "markdown",
   "id": "6c31d748",
   "metadata": {},
   "source": [
    "### Mouse brain"
   ]
  },
  {
   "cell_type": "markdown",
   "id": "33ddcddd",
   "metadata": {},
   "source": [
    "plot all sections of PASTE, PASTE2, or ours "
   ]
  },
  {
   "cell_type": "code",
   "execution_count": null,
   "id": "282f7e8f",
   "metadata": {
    "scrolled": true
   },
   "outputs": [],
   "source": [
    "dir_all = 'E:/REGISTRATION_SOFTWARE/algorithm/cell_level_regist/paper/output_data/our_pipeline'\n",
    "tissue_mtd = 'mouse_brain_ours_sigma0.3'  # ours_sigma0.3  \n",
    "slicesl, pili, tyli = read_slices(os.path.join(dir_all, tissue_mtd))"
   ]
  },
  {
   "cell_type": "code",
   "execution_count": null,
   "id": "131a7916",
   "metadata": {
    "scrolled": false
   },
   "outputs": [],
   "source": [
    "rp = RegisPlotter(num_cols=14, fig_size=(14, 3.8))  # (6,12.5) for4 cols  # 24,36\n",
    "anncell_color = rp.plot_scatter_by_grid(slicesl,  spatype='spatial_elas',  size=0.6, seed_val=11, cmap='random', show_legend=False, single_legend=False, tick_step=None, pad=0.1, retrieve_color=True)  # random # PASTE, ours size=0.7，0.3, pad=0.05"
   ]
  },
  {
   "cell_type": "markdown",
   "id": "7a7cfc63",
   "metadata": {},
   "source": [
    "then use anncell_color dictionary to plot results of GPSA, or plot selected sections of PASTE, PASTE2 or ours"
   ]
  },
  {
   "cell_type": "code",
   "execution_count": null,
   "id": "b0f75ae9",
   "metadata": {},
   "outputs": [],
   "source": [
    "dir_all = 'E:/REGISTRATION_SOFTWARE/algorithm/cell_level_regist/paper/output_data/our_pipeline'\n",
    "tissue_mtd = 'mouse_brain_gpsa_order_cor'  #\n",
    "slicesl, pili, tyli = read_slices(os.path.join(dir_all, tissue_mtd))"
   ]
  },
  {
   "cell_type": "code",
   "execution_count": null,
   "id": "4a796715",
   "metadata": {
    "scrolled": true
   },
   "outputs": [],
   "source": [
    "rp = RegisPlotter(num_cols=14, fig_size=(14, 3.8))  \n",
    "_ = rp.plot_scatter_by_grid(slicesl,  spatype='spatial_elas',  size=0.6, anncell_color=anncell_color, show_legend=False, single_legend=False, tick_step=None, pad=0.05, retrieve_color=True)  # random # PASTE, ours size=0.7，0.3, pad=0.05"
   ]
  },
  {
   "cell_type": "code",
   "execution_count": null,
   "id": "61d201ae",
   "metadata": {},
   "outputs": [],
   "source": [
    "rap = RegisAnchorPlotter(num_cols=4, fig_size=(14, 2.5))\n",
    "rap.plot_scatter_by_grid(slicesl, pili, None, [None]*(len(slicesl)-1), 'to_pre', 'num_anchors', 'spatial', False, 'annotation', size=1)  \n",
    "# num_anchors, pi_max, strong_anch"
   ]
  },
  {
   "cell_type": "markdown",
   "id": "2e1b0538",
   "metadata": {},
   "source": [
    "###### Drosophila Embryo"
   ]
  },
  {
   "cell_type": "code",
   "execution_count": null,
   "id": "297b0fe8",
   "metadata": {
    "scrolled": true
   },
   "outputs": [],
   "source": [
    "dir_all = 'E:/REGISTRATION_SOFTWARE/algorithm/cell_level_regist/paper/output_data/our_pipeline'\n",
    "tissue_mtd = 'drosophila_embryo_gpsa'\n",
    "slicesl, _, _ = read_slices(os.path.join(dir_all, tissue_mtd))\n",
    "\n",
    "rp = RegisPlotter(fig_size=(10.5, 14))  # paste, ours: 10.2,14; paste2: 8, 14; ours: 10.5, 14\n",
    "rp.plot_scatter_by_grid(slicesl,  spatype='spatial_elas',  size=4.5, cmap='rainbow', show_legend=False, tick_step=None, pad=0.05)"
   ]
  },
  {
   "cell_type": "code",
   "execution_count": null,
   "id": "c2bd6043",
   "metadata": {},
   "outputs": [],
   "source": [
    "dir_all = 'E:/REGISTRATION_SOFTWARE/algorithm/cell_level_regist/paper/output_data/our_pipeline'\n",
    "tissue_mtd = 'drosophila_embryo_ours'\n",
    "slicesl, _, _ = read_slices(os.path.join(dir_all, tissue_mtd))\n",
    "\n",
    "rp = RegisPlotter(fig_size=(12,15), num_cols=4)\n",
    "rp.plot_scatter_by_grid(slicesl,  spatype='spatial_elas',  size=4, cmap='rainbow', show_legend=False)"
   ]
  },
  {
   "cell_type": "code",
   "execution_count": null,
   "id": "1f4f99d2",
   "metadata": {},
   "outputs": [],
   "source": [
    "# the method doesn't apply to PASTE2, since it recovers a and b from pi matrix, whose element value is reduced in PASTE2 computation\n",
    "dir_all = 'E:/REGISTRATION_SOFTWARE/algorithm/cell_level_regist/paper/output_data/our_pipeline'\n",
    "tissue_mtd = 'drosophila_embryo_PASTE'  # ours_sigma0.3\n",
    "filbylabel = False\n",
    "slicesl, pili, tyli = read_slices(os.path.join(dir_all, tissue_mtd))\n",
    "\n",
    "slicesl_plt = slicesl[5:11]\n",
    "pili_plt = pili[5:10]\n",
    "rap = RegisAnchorPlotter(num_cols=5, fig_size=(14, 5))\n",
    "rap.plot_scatter_by_grid(slicesl_plt, pili_plt, None, [None]*(len(slicesl)-1), 'to_next', '', 'spatial', filbylabel, 'annotation', size=2)  \n",
    "# num_anchors, pi_max, strong_anch"
   ]
  },
  {
   "cell_type": "markdown",
   "id": "580c59e8",
   "metadata": {},
   "source": [
    "###### mouse hippocampus"
   ]
  },
  {
   "cell_type": "code",
   "execution_count": null,
   "id": "15e160c0",
   "metadata": {},
   "outputs": [],
   "source": [
    "dir_all = 'E:/REGISTRATION_SOFTWARE/algorithm/cell_level_regist/paper/output_data/our_pipeline'\n",
    "# tissue_mtd = 'mouse_hipp_ours_explore'\n",
    "# tissue_mtd = 'mouse_hipp_PASTE_0_1_normed_var_corrected'\n",
    "# tissue_mtd = 'mouse_hipp_PASTE2_0_1_normed_var_corrected'\n",
    "tissue_mtd = 'mouse_hipp_gpsa_0_1_normed'\n",
    "slicesl, pili, _ = read_slices(os.path.join(dir_all, tissue_mtd), ctype_col='annotation')\n",
    "\n",
    "# # fix var idnex problem\n",
    "# for slice_ in slicesl:\n",
    "#         slice_.var = slice_.var.set_index('Row')\n",
    "#         slicesl_plt[i] = slice_"
   ]
  },
  {
   "cell_type": "code",
   "execution_count": null,
   "id": "83102454",
   "metadata": {
    "scrolled": true
   },
   "outputs": [],
   "source": [
    "ca_dg_only = False\n",
    "\n",
    "slicesl_plt = slicesl.copy()\n",
    "if ca_dg_only:\n",
    "    for i, slice_ in enumerate(slicesl_plt):\n",
    "        slice_ = slice_[slice_.obs['annotation'].isin([4,5,6])]\n",
    "        slicesl_plt[i] = slice_\n",
    "        \n",
    "rp = RegisPlotter(num_cols=2, fig_size=(8, 4)) # (W, H)  # one axis: W1H4\n",
    "ty2color = rp.plot_scatter_by_grid(slicesl_plt,  spatype='spatial_elas',  size=5, seed_val=9, cmap='random', show_legend=False, single_legend=False, tick_step=500, pad=0.8, retrieve_color=True)  # random # PASTE, ours size=0.7，0.3, pad=0.05"
   ]
  },
  {
   "cell_type": "code",
   "execution_count": null,
   "id": "c7680022",
   "metadata": {},
   "outputs": [],
   "source": [
    "ca_dg_only = True\n",
    "\n",
    "slicesl_plt = slicesl.copy()\n",
    "if ca_dg_only:\n",
    "    for i, slice_ in enumerate(slicesl_plt):\n",
    "        slice_ = slice_[slice_.obs['annotation'].isin([4,5,6])]\n",
    "        slicesl_plt[i] = slice_\n",
    "        \n",
    "rp = RegisPlotter(num_cols=2, fig_size=(8, 4)) # (W, H)  # one axis: W1H4\n",
    "rp.plot_scatter_by_grid(slicesl_plt,  spatype='spatial',  size=5, anncell_color=ty2color, show_legend=False, single_legend=False, tick_step=500, pad=0.8)  # random # PASTE, ours size=0.7，0.3, pad=0.05"
   ]
  },
  {
   "cell_type": "code",
   "execution_count": null,
   "id": "956d4e6b",
   "metadata": {},
   "outputs": [],
   "source": [
    "rp = RegisAnchorPlotter(num_cols=2, fig_size=(10, 4))\n",
    "rp.plot_scatter_by_grid(slicesl,  pili,  None, [None]*(len(slicesl)-1), \n",
    "                        'to_pre', 'strong_anch', 'spatial', False, 'annotation', size=5, cmap='random', seed_val=9, pad=1.2)  # random # PASTE, ours size=0.7, pad=0.05"
   ]
  },
  {
   "cell_type": "code",
   "execution_count": null,
   "id": "da19ca27",
   "metadata": {},
   "outputs": [],
   "source": [
    "def plot_stacked_comparison_spot(xy_li, index2color, bg_color,s=0.5):\n",
    "    plt.figure(figsize=(1,2), dpi=500)\n",
    "    # plt.style.use('dark_background')\n",
    "    plt.rcParams.update({\n",
    "        \"axes.facecolor\": bg_color,\n",
    "        \"axes.edgecolor\": bg_color,\n",
    "        \"grid.color\": bg_color,\n",
    "        \"figure.facecolor\": bg_color})\n",
    "    plt.tick_params(left=False, bottom=False, labelleft=False, labelbottom=False)\n",
    "    plt.gca().set_aspect('equal', adjustable='box')\n",
    "    for ind, xy in enumerate(xy_li):\n",
    "        plt.scatter(xy[:,0], xy[:,1], s=s, linewidths=0, c=index2color[ind]) # 0.2\n",
    "    plt.show()\n",
    "\n",
    "\n",
    "ca_dg_only = True\n",
    "index2color = {0:'red', 1:'green'}\n",
    "bg_color = '#353635'\n",
    "com_spa_type = 'spatial_elas'  # compared spatial type\n",
    "slicesl_plt = slicesl.copy()\n",
    "if ca_dg_only:\n",
    "    for i, slice_ in enumerate(slicesl_plt):\n",
    "        slice_ = slice_[slice_.obs['annotation'].isin([4,5,6])]\n",
    "        slicesl_plt[i] = slice_\n",
    "        \n",
    "xy_li = [slicesl_plt[0].obsm[com_spa_type][:,:2], slicesl_plt[1].obsm[com_spa_type][:,:2]]\n",
    "plot_stacked_comparison_spot(xy_li, index2color, bg_color,s=0.3)"
   ]
  },
  {
   "cell_type": "code",
   "execution_count": null,
   "id": "fbdcf384",
   "metadata": {},
   "outputs": [],
   "source": [
    "def plot_stacked_comparison_ctype(xy_li, ctype_li, index2marker):\n",
    "    \"\"\"\n",
    "    xy_li: List(np.ndarray), ndarray of (n,2)\n",
    "    ctype_li: List(np.adaray), ndarray of (n,) of int\n",
    "    \"\"\"\n",
    "    plt.figure(figsize=(1,2), dpi=500)\n",
    "    plt.tick_params(left=False, bottom=False, labelleft=False, labelbottom=False)\n",
    "    plt.gca().set_aspect('equal', adjustable='box')\n",
    "    for ind in range(len(xy_li)):\n",
    "        xy = xy_li[ind]\n",
    "        ctype = ctype_li[ind]\n",
    "        plt.scatter(xy[:,0], xy[:,1], s=1,  linewidths=0.1, marker=index2marker[ind], c=ctype, cmap='rainbow') #\n",
    "    plt.show()\n",
    "\n",
    "\n",
    "ca_dg_only = True\n",
    "com_spa_type = 'spatial_rigid'  # compared spatial type\n",
    "index2marker = {0:'.', 1:'.'}\n",
    "\n",
    "slicesl_plt = slicesl.copy()\n",
    "if ca_dg_only:\n",
    "    for i, slice_ in enumerate(slicesl_plt):\n",
    "        slice_ = slice_[slice_.obs['annotation'].isin([4,5,6])]\n",
    "        slicesl_plt[i] = slice_\n",
    "        \n",
    "xy_li = [slicesl_plt[0].obsm[com_spa_type][:,:2], slicesl_plt[1].obsm[com_spa_type][:,:2]]\n",
    "ctype_li = [slicesl_plt[0].obs['annotation'], slicesl_plt[1].obs['annotation']]\n",
    "\n",
    "plot_stacked_comparison_ctype(xy_li, ctype_li, index2marker)"
   ]
  },
  {
   "cell_type": "code",
   "execution_count": null,
   "id": "01514d32",
   "metadata": {},
   "outputs": [],
   "source": [
    "import warnings\n",
    "warnings. filterwarnings('ignore')\n",
    "\n",
    "hex2rgb = lambda h : tuple(int(h.lstrip('#')[i:i+2], 16) / 255 for i in (0, 2, 4))\n",
    "\n",
    "# def get_cadg(slicesl_plt):\n",
    "#     \"\"\"get ca and dg beads from hippocampus\n",
    "#     in: AnnData\n",
    "#     out: AnnData\n",
    "#     \"\"\"\n",
    "#     for i, slice_ in enumerate(slicesl_plt):\n",
    "#         slice_ = slice_[slice_.obs['annotation'].isin([4,5,6])]\n",
    "#         slicesl_plt[i] = slice_\n",
    "#     return slicesl_plt\n",
    "\n",
    "\n",
    "def assign_anno(slicesl_plt, ann_cls_gene):\n",
    "    \"\"\"assign annotation for slicesl\n",
    "    in: \n",
    "    slicesl: AnnData\n",
    "    ann_cl_gene: relationship between annotation, cluster and genes. pd.DataFrame(cols=['ann', 'cls', 'gene'])\n",
    "    out:\n",
    "    slicesl: AnnData obs['annotation_cor'] added\n",
    "    \"\"\"\n",
    "    for slice_ in slicesl_plt:\n",
    "        slice_.obs['annotation_cor'] = ['others'] * slice_.n_obs\n",
    "        for ann in ann_cls_gene.index:\n",
    "            cls = ann_cls_gene.loc[ann]['cls'] # [cluster(int),]\n",
    "            cls_ind = np.where(slice_.obs['annotation'].isin(cls))\n",
    "\n",
    "            gene = ann_cls_gene.loc[ann]['gene'] # [gene(str),]\n",
    "            if gene is None:\n",
    "                gene_ind = np.arange(slice_.n_obs)\n",
    "            else:\n",
    "                gene = [g for g in gene if g in slice_.var.index] \n",
    "                gene_ind = np.where(slice_[:, gene].X.sum(axis=1) > 0)\n",
    "            \n",
    "            sel_ind = np.intersect1d(cls_ind, gene_ind)  # selected index on obs axis\n",
    "            slice_.obs['annotation_cor'].iloc[sel_ind] = ann\n",
    "        slicesl_plt = slice_\n",
    "    return slicesl_plt\n",
    "            \n",
    "                   \n",
    "def plot_stacked_comparison_single_ctype(slicesl_plt, ann, ann_color):\n",
    "    \"\"\"\n",
    "    \"\"\"\n",
    "    bg_color = '#353635'\n",
    "    others_ctype_color = '#BFB7AB' # light gray\n",
    "    bsize=1.2\n",
    "    ssize=0.3\n",
    "    \n",
    "    plt.figure(figsize=(1,2), dpi=500)\n",
    "    # plt.style.use('dark_background')\n",
    "    plt.rcParams.update({\n",
    "        \"axes.facecolor\": bg_color,\n",
    "        \"axes.edgecolor\": bg_color,\n",
    "        \"grid.color\": bg_color,\n",
    "        \"figure.facecolor\": bg_color})\n",
    "    plt.tick_params(left=False, bottom=False, labelleft=False, labelbottom=False)\n",
    "    plt.gca().set_aspect('equal', adjustable='box')\n",
    "    \n",
    "    for index in range(len(slicesl_plt)):\n",
    "        xy = slicesl_plt[index].obsm['spatial_elas']\n",
    "        \n",
    "        ctype_li = slicesl_plt[index].obs['annotation_cor']\n",
    "        co_li = [ann_color.loc[ann]['co'][index] if ctype == ann else others_ctype_color for ctype in ctype_li]\n",
    "        co_li = [hex2rgb(hex_) for hex_ in co_li]\n",
    "        \n",
    "        s_li = [bsize if ctype == ann else ssize for ctype in ctype_li]\n",
    "        plt.scatter(xy[:,0], xy[:,1], s=s_li, linewidths=0, c=co_li) # 0.2\n",
    "    plt.show()\n",
    "\n",
    "\n",
    "# ca_dg_only = False\n",
    "com_spa_type = 'spatial_elas'  # compared spatial type\n",
    "\n",
    "ann_li = ['CA3/Hilum', 'CA2',  'Subiculum', 'CA1', 'DG', 'Neurogenesis']\n",
    "cls_li = [[6], [6], list(np.arange(1, 999)), [5], [4], [13]]\n",
    "gene_li = [['Satb1', 'Scg2', 'Nap115', 'Fxyd6', 'C1q13', 'Necab', 'S1c35f1', 'Nrsn1', 'Ca1b2'],\n",
    "                   ['Adcy1', 'Pcp4', 'Rgs14'],\n",
    "                   ['Rxfp1', 'Fn1', 'Lxn', 'Nr4a2'],\n",
    "                   ['Tenm3', 'Lypd1'],\n",
    "                   ['Mef2c'],\n",
    "                   None]\n",
    "color_li = [['#E64B35FF', '#F39B7FFF'],  # 橘\n",
    "                   ['#4DBBD5FF', '#332fff'], # 蓝\n",
    "                   ['#00A087FF', '#91D1C2FF'],  # 绿\n",
    "                   ['#a66300', '#e0b100'], # 棕\n",
    "                   ['#E08BC3', '#909FCA'], # 紫-粉\n",
    "                   ['#FBD830', '#A9D35A']] # 黄-绿\n",
    "sel_ann = 'Neurogenesis'\n",
    "\n",
    "slicesl_plt = slicesl.copy()\n",
    "\n",
    "# # 1. get ca_dg part\n",
    "# if ca_dg_only:\n",
    "#     slicesl_plt = get_cadg(slicesl_plt)\n",
    "    \n",
    "# 2. assign annotation to each bead    \n",
    "ann_cls_gene = pd.DataFrame({'ann': ann_li, 'cls': cls_li, 'gene': gene_li}).set_index('ann')\n",
    "slicel_plt = assign_anno(slicesl_plt, ann_cls_gene)\n",
    "\n",
    "# # 3. plot\n",
    "# for i, slice_ in enumerate(slicesl_plt):\n",
    "#     slice_ = slice_[slice_.obs['annotation_cor'].isin(ann_li)]\n",
    "#     slicesl_plt[i] = slice_\n",
    "    \n",
    "ann_color = pd.DataFrame({'ann': ann_li, 'co': color_li}).set_index('ann')\n",
    "plot_stacked_comparison_single_ctype(slicesl_plt, sel_ann, ann_color)"
   ]
  },
  {
   "cell_type": "code",
   "execution_count": null,
   "id": "5f9c887f",
   "metadata": {
    "scrolled": true
   },
   "outputs": [],
   "source": [
    "from IPython.display import Markdown, display\n",
    "\n",
    "colors = color_li[5]\n",
    "\n",
    "display(Markdown('<br>'.join(\n",
    "    f'<span style=\"font-family: monospace\">{color} <span style=\"color: {color}\">████████</span></span>'\n",
    "    for color in colors\n",
    ")))"
   ]
  }
 ],
 "metadata": {
  "kernelspec": {
   "display_name": "Python 3 (ipykernel)",
   "language": "python",
   "name": "python3"
  },
  "language_info": {
   "codemirror_mode": {
    "name": "ipython",
    "version": 3
   },
   "file_extension": ".py",
   "mimetype": "text/x-python",
   "name": "python",
   "nbconvert_exporter": "python",
   "pygments_lexer": "ipython3",
   "version": "3.8.13"
  }
 },
 "nbformat": 4,
 "nbformat_minor": 5
}
