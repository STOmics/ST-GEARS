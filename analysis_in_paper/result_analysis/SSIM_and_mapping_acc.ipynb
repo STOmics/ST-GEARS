{
 "cells": [
  {
   "cell_type": "code",
   "execution_count": 35,
   "id": "8ecdeb03",
   "metadata": {},
   "outputs": [
    {
     "name": "stderr",
     "output_type": "stream",
     "text": [
      "C:\\Users\\xiatianyi\\AppData\\Local\\Temp\\ipykernel_20344\\1876776286.py:19: UserWarning: FixedFormatter should only be used together with FixedLocator\n",
      "  plt.gca().set_yticklabels([round(abs(tick), 2) for tick in ticks])\n"
     ]
    },
    {
     "data": {
      "image/png": "[encoded data removed]",
      "text/plain": [
       "<Figure size 300x600 with 1 Axes>"
      ]
     },
     "metadata": {
      "needs_background": "light"
     },
     "output_type": "display_data"
    }
   ],
   "source": [
    "import numpy as np\n",
    "import matplotlib.pyplot as plt\n",
    "\n",
    "\n",
    "def  plot_map_acc_SSIM(mssim, map_acc):\n",
    "    \"\"\"\n",
    "    plot comparison of mapping accuracy and MSSIM scores\n",
    "    \n",
    "    input:\n",
    "    map_acc: {'PASTE': float[0,1], 'PASTE2':float[0,1], 'ours': float[0,1]}\n",
    "    mssim: {'PASTE': float[0,1], 'PASTE2':float[0,1], 'ours': float[0,1]}\n",
    "    \"\"\"\n",
    "    plt.figure(figsize=(3,6), dpi=100)\n",
    "    \n",
    "    plt.gca().bar(mssim.keys(),  mssim.values(), width=0.3, color='#F39B7FFF')\n",
    "    plt.gca().bar(map_acc.keys(), [-1 * ele for ele in map_acc.values()], width=0.3, color='#91D1C2FF')\n",
    "    \n",
    "    ticks =  plt.gca().get_yticks()\n",
    "    plt.gca().set_yticklabels([round(abs(tick), 2) for tick in ticks])\n",
    "\n",
    "    plt.xticks(fontsize=12, font='Arial')\n",
    "    plt.yticks(fontsize=12, font='Arial')\n",
    "\n",
    "mssim = {'PASTE': 0.422, 'PASTE2': 0.218, 'ours': 0.440}\n",
    "map_acc = {'PASTE': 0.231, 'PASTE2': np.nan, 'ours': 0.487}   \n",
    "\n",
    "plot_map_acc_SSIM(mssim, map_acc)"
   ]
  }
 ],
 "metadata": {
  "kernelspec": {
   "display_name": "Python 3 (ipykernel)",
   "language": "python",
   "name": "python3"
  },
  "language_info": {
   "codemirror_mode": {
    "name": "ipython",
    "version": 3
   },
   "file_extension": ".py",
   "mimetype": "text/x-python",
   "name": "python",
   "nbconvert_exporter": "python",
   "pygments_lexer": "ipython3",
   "version": "3.8.13"
  }
 },
 "nbformat": 4,
 "nbformat_minor": 5
}
