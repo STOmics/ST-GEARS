{
 "cells": [
  {
   "cell_type": "markdown",
   "id": "e0f39120",
   "metadata": {},
   "source": [
    "#### This notebook calculates SSIM across different registration status, and different methods, respectively."
   ]
  },
  {
   "cell_type": "code",
   "execution_count": 1,
   "id": "ac74cc6c",
   "metadata": {},
   "outputs": [],
   "source": [
    "import os\n",
    "import sys\n",
    "import pandas as pd\n",
    "import numpy as np\n",
    "\n",
    "import matplotlib.pyplot as plt\n",
    "\n",
    "sys.path.append('E:/REGISTRATION_SOFTWARE/algorithm/cell_level_regist/paper/code/result_analysis')\n",
    "from img_based_analysis import gen_binset_img, calculate_ssim"
   ]
  },
  {
   "cell_type": "code",
   "execution_count": 2,
   "id": "c3431725",
   "metadata": {},
   "outputs": [],
   "source": [
    "def gen_df_dif_regis(all_data_output, mark_data, mtd, pixel_size, output_img_dir):\n",
    "    \"\"\"\n",
    "    generate dataframe of MSSIM of .obsm['spatial'], .obsm['spatial_rigid'] and .obsm['spatial_elas']\n",
    "    \"\"\"\n",
    "    regis_scores = {}\n",
    "    \n",
    "    sh_0_li = []\n",
    "    sh_1_li = []\n",
    "    regis_arr_img_li = {}\n",
    "    for regis in ['spatial', 'spatial_rigid', 'spatial_elas']:\n",
    "        print(regis)\n",
    "        fo = [fo for fo in os.listdir(all_data_output) if mark_data in fo and mtd in fo][0]\n",
    "        dir = os.path.join(all_data_output, fo)\n",
    "        fname_int_li = [int(fname.replace('.h5ad', '')) for fname in os.listdir(dir) if fname.endswith('.h5ad')]\n",
    "        fname_int_li.sort()\n",
    "        fname_li = [str(fname_int) + '.h5ad' for fname_int in fname_int_li]\n",
    "        dir_li = [os.path.join(dir, fname) for fname in fname_li]\n",
    "\n",
    "        arr_img_li, arr_ctype_li, ty_li, _ = gen_binset_img(dir_li, pixel_size= pixel_size, output_img_dir=output_img_dir, spa_col=regis, ctype_col='annotation')  # fixme\n",
    "        sh_0_li.append(arr_img_li[0].shape[0])\n",
    "        sh_1_li.append(arr_img_li[0].shape[1])\n",
    "        regis_arr_img_li[regis] = arr_img_li\n",
    "        \n",
    "    # 修正图像大小不一的情况\n",
    "    sh_0 = np.array(sh_0_li).max()\n",
    "    sh_1 = np.array(sh_1_li).max()\n",
    "    for regis in ['spatial', 'spatial_rigid', 'spatial_elas']:\n",
    "        regis_arr_img_li[regis] = [np.concatenate([arr, np.zeros((sh_0 - arr.shape[0], arr.shape[1]))], axis=0) for arr in regis_arr_img_li[regis]]\n",
    "        regis_arr_img_li[regis] = [np.concatenate([arr, np.zeros((arr.shape[0], sh_1 - arr.shape[1]))], axis=1) for arr in regis_arr_img_li[regis]]\n",
    "        \n",
    "    for  regis in ['spatial', 'spatial_rigid', 'spatial_elas']:\n",
    "        mssim_li = calculate_ssim(regis_arr_img_li[regis], output_img_dir=output_img_dir, intersect_only=False)  # fixme\n",
    "        regis_scores[regis] = mssim_li\n",
    "        \n",
    "    df = pd.DataFrame.from_dict(regis_scores)\n",
    "    return df"
   ]
  },
  {
   "cell_type": "code",
   "execution_count": 3,
   "id": "77412bd7",
   "metadata": {},
   "outputs": [],
   "source": [
    "def gen_df_dif_method(all_data_output, mark_data, mtd_li, pixel_size, output_img_dir, ctype_col='annotation'):\n",
    "    \"\"\"\n",
    "    generate dataframe of MSSIM across different methods\n",
    "    \"\"\"\n",
    "    regis_scores = {}\n",
    "    \n",
    "    # for regis in ['spatial', 'spatial_rigid', 'spatial_elas']:\n",
    "    \n",
    "    sh_0_li = []\n",
    "    sh_1_li = []\n",
    "    mtd_arr_img_li = {}\n",
    "    for mtd in mtd_li:\n",
    "        if mtd == 'ours':\n",
    "            regis = 'spatial_elas'\n",
    "        else:\n",
    "            regis = 'spatial_rigid'\n",
    "        print(mtd, regis)\n",
    "        fo = [fo for fo in os.listdir(all_data_output) if mark_data in fo and mtd in fo][0]\n",
    "        dir = os.path.join(all_data_output, fo)\n",
    "        fname_int_li = [int(fname.replace('.h5ad', '')) for fname in os.listdir(dir) if fname.endswith('.h5ad')]\n",
    "        fname_int_li.sort()\n",
    "        fname_li = [str(fname_int) + '.h5ad' for fname_int in fname_int_li]\n",
    "        dir_li = [os.path.join(dir, fname) for fname in fname_li]\n",
    "\n",
    "        arr_img_li, arr_ctype_li, ty_li, _ = gen_binset_img(dir_li, pixel_size= pixel_size, output_img_dir=output_img_dir, spa_col=regis, ctype_col=ctype_col)  # fixme\n",
    "\n",
    "        sh_0_li.append(arr_img_li[0].shape[0])\n",
    "        sh_1_li.append(arr_img_li[0].shape[1])\n",
    "        \n",
    "        mtd_arr_img_li[mtd] = arr_img_li\n",
    "    \n",
    "    # 修正图像大小不一的情况\n",
    "    sh_0 = np.array(sh_0_li).max()\n",
    "    sh_1 = np.array(sh_1_li).max()\n",
    "    for mtd in mtd_li:\n",
    "        mtd_arr_img_li[mtd] = [np.concatenate([arr, np.zeros((sh_0 - arr.shape[0], arr.shape[1]))], axis=0) for arr in mtd_arr_img_li[mtd]]\n",
    "        mtd_arr_img_li[mtd] = [np.concatenate([arr, np.zeros((arr.shape[0], sh_1 - arr.shape[1]))], axis=1) for arr in mtd_arr_img_li[mtd]]\n",
    "        \n",
    "    for mtd in mtd_li:\n",
    "        mssim_li = calculate_ssim(mtd_arr_img_li[mtd], output_img_dir=output_img_dir, intersect_only=False)  # fixme\n",
    "\n",
    "        regis_scores[mtd] = mssim_li\n",
    "    df = pd.DataFrame.from_dict(regis_scores)\n",
    "    return df"
   ]
  },
  {
   "cell_type": "markdown",
   "id": "896c5ce7",
   "metadata": {},
   "source": [
    "##### Calculate SSIM of raw data,  of data after rigid registration, and of data after elastic registration, of drosophila embryo, and drosophila larva"
   ]
  },
  {
   "cell_type": "code",
   "execution_count": 39,
   "id": "54ee0cbc",
   "metadata": {
    "scrolled": true
   },
   "outputs": [
    {
     "name": "stdout",
     "output_type": "stream",
     "text": [
      "spatial\n",
      "0 / 15\n",
      "1 / 15\n",
      "2 / 15\n",
      "3 / 15\n",
      "4 / 15\n",
      "5 / 15\n",
      "6 / 15\n",
      "7 / 15\n",
      "8 / 15\n",
      "9 / 15\n",
      "10 / 15\n",
      "11 / 15\n",
      "12 / 15\n",
      "13 / 15\n",
      "14 / 15\n",
      "15 / 15\n",
      "spatial_rigid\n",
      "0 / 15\n",
      "1 / 15\n",
      "2 / 15\n",
      "3 / 15\n",
      "4 / 15\n",
      "5 / 15\n",
      "6 / 15\n",
      "7 / 15\n",
      "8 / 15\n",
      "9 / 15\n",
      "10 / 15\n",
      "11 / 15\n",
      "12 / 15\n",
      "13 / 15\n",
      "14 / 15\n",
      "15 / 15\n",
      "spatial_elas\n",
      "0 / 15\n",
      "1 / 15\n",
      "2 / 15\n",
      "3 / 15\n",
      "4 / 15\n",
      "5 / 15\n",
      "6 / 15\n",
      "7 / 15\n",
      "8 / 15\n",
      "9 / 15\n",
      "10 / 15\n",
      "11 / 15\n",
      "12 / 15\n",
      "13 / 15\n",
      "14 / 15\n",
      "15 / 15\n"
     ]
    }
   ],
   "source": [
    "all_data_output = 'E:/REGISTRATION_SOFTWARE/algorithm/cell_level_regist/paper/output_data/our_pipeline'\n",
    "mark_data = 'drosophila_embryo' \n",
    "mtd = 'ours'\n",
    "output_img_dir = 'E:/REGISTRATION_SOFTWARE/algorithm/cell_level_regist/paper/result_analysis/SSIM/ctype_img_drosophila_larva' # None\n",
    "# recommended pixel_size: math.sqrt(2) * binset_size todo: 写入函数\n",
    "# fruitfly_embryo: pixel_size=1\n",
    "# fruitfly_larva: pixel_size=3.5\n",
    "# DLPFC: pixel_size=213\n",
    "pixel_size = 1\n",
    "df_droso_embryo = gen_df_dif_regis(all_data_output, mark_data, mtd, pixel_size, output_img_dir)"
   ]
  },
  {
   "cell_type": "code",
   "execution_count": 38,
   "id": "f6aeafe3",
   "metadata": {
    "collapsed": true
   },
   "outputs": [
    {
     "data": {
      "text/html": [
       "<div>\n",
       "<style scoped>\n",
       "    .dataframe tbody tr th:only-of-type {\n",
       "        vertical-align: middle;\n",
       "    }\n",
       "\n",
       "    .dataframe tbody tr th {\n",
       "        vertical-align: top;\n",
       "    }\n",
       "\n",
       "    .dataframe thead th {\n",
       "        text-align: right;\n",
       "    }\n",
       "</style>\n",
       "<table border=\"1\" class=\"dataframe\">\n",
       "  <thead>\n",
       "    <tr style=\"text-align: right;\">\n",
       "      <th></th>\n",
       "      <th>PASTE</th>\n",
       "      <th>PASTE2</th>\n",
       "      <th>ours</th>\n",
       "    </tr>\n",
       "  </thead>\n",
       "  <tbody>\n",
       "    <tr>\n",
       "      <th>0</th>\n",
       "      <td>0.740645</td>\n",
       "      <td>0.720364</td>\n",
       "      <td>0.749061</td>\n",
       "    </tr>\n",
       "    <tr>\n",
       "      <th>1</th>\n",
       "      <td>0.742724</td>\n",
       "      <td>0.745070</td>\n",
       "      <td>0.738757</td>\n",
       "    </tr>\n",
       "    <tr>\n",
       "      <th>2</th>\n",
       "      <td>0.698274</td>\n",
       "      <td>0.709805</td>\n",
       "      <td>0.734992</td>\n",
       "    </tr>\n",
       "    <tr>\n",
       "      <th>3</th>\n",
       "      <td>0.768629</td>\n",
       "      <td>0.757415</td>\n",
       "      <td>0.732550</td>\n",
       "    </tr>\n",
       "    <tr>\n",
       "      <th>4</th>\n",
       "      <td>0.701929</td>\n",
       "      <td>0.701934</td>\n",
       "      <td>0.724866</td>\n",
       "    </tr>\n",
       "    <tr>\n",
       "      <th>5</th>\n",
       "      <td>0.613785</td>\n",
       "      <td>0.600109</td>\n",
       "      <td>0.550153</td>\n",
       "    </tr>\n",
       "    <tr>\n",
       "      <th>6</th>\n",
       "      <td>0.427791</td>\n",
       "      <td>0.463321</td>\n",
       "      <td>0.502706</td>\n",
       "    </tr>\n",
       "    <tr>\n",
       "      <th>7</th>\n",
       "      <td>0.542243</td>\n",
       "      <td>0.493413</td>\n",
       "      <td>0.556836</td>\n",
       "    </tr>\n",
       "    <tr>\n",
       "      <th>8</th>\n",
       "      <td>0.504406</td>\n",
       "      <td>0.553972</td>\n",
       "      <td>0.535935</td>\n",
       "    </tr>\n",
       "    <tr>\n",
       "      <th>9</th>\n",
       "      <td>0.486618</td>\n",
       "      <td>0.525402</td>\n",
       "      <td>0.574026</td>\n",
       "    </tr>\n",
       "    <tr>\n",
       "      <th>10</th>\n",
       "      <td>0.483001</td>\n",
       "      <td>0.517368</td>\n",
       "      <td>0.583999</td>\n",
       "    </tr>\n",
       "    <tr>\n",
       "      <th>11</th>\n",
       "      <td>0.452228</td>\n",
       "      <td>0.403016</td>\n",
       "      <td>0.571162</td>\n",
       "    </tr>\n",
       "    <tr>\n",
       "      <th>12</th>\n",
       "      <td>0.528908</td>\n",
       "      <td>0.532876</td>\n",
       "      <td>0.576571</td>\n",
       "    </tr>\n",
       "    <tr>\n",
       "      <th>13</th>\n",
       "      <td>0.431692</td>\n",
       "      <td>0.488524</td>\n",
       "      <td>0.521639</td>\n",
       "    </tr>\n",
       "    <tr>\n",
       "      <th>14</th>\n",
       "      <td>0.452286</td>\n",
       "      <td>0.466806</td>\n",
       "      <td>0.473121</td>\n",
       "    </tr>\n",
       "  </tbody>\n",
       "</table>\n",
       "</div>"
      ],
      "text/plain": [
       "       PASTE    PASTE2      ours\n",
       "0   0.740645  0.720364  0.749061\n",
       "1   0.742724  0.745070  0.738757\n",
       "2   0.698274  0.709805  0.734992\n",
       "3   0.768629  0.757415  0.732550\n",
       "4   0.701929  0.701934  0.724866\n",
       "5   0.613785  0.600109  0.550153\n",
       "6   0.427791  0.463321  0.502706\n",
       "7   0.542243  0.493413  0.556836\n",
       "8   0.504406  0.553972  0.535935\n",
       "9   0.486618  0.525402  0.574026\n",
       "10  0.483001  0.517368  0.583999\n",
       "11  0.452228  0.403016  0.571162\n",
       "12  0.528908  0.532876  0.576571\n",
       "13  0.431692  0.488524  0.521639\n",
       "14  0.452286  0.466806  0.473121"
      ]
     },
     "execution_count": 38,
     "metadata": {},
     "output_type": "execute_result"
    }
   ],
   "source": [
    "df_droso_embryo"
   ]
  },
  {
   "cell_type": "code",
   "execution_count": 7,
   "id": "46ff795c",
   "metadata": {
    "collapsed": true
   },
   "outputs": [
    {
     "name": "stdout",
     "output_type": "stream",
     "text": [
      "PASTE spatial_rigid\n",
      "0 / 15\n",
      "1 / 15\n",
      "2 / 15\n",
      "3 / 15\n",
      "4 / 15\n",
      "5 / 15\n",
      "6 / 15\n",
      "7 / 15\n",
      "8 / 15\n",
      "9 / 15\n",
      "10 / 15\n",
      "11 / 15\n",
      "12 / 15\n",
      "13 / 15\n",
      "14 / 15\n",
      "15 / 15\n",
      "PASTE2 spatial_rigid\n",
      "0 / 15\n",
      "1 / 15\n",
      "2 / 15\n",
      "3 / 15\n",
      "4 / 15\n",
      "5 / 15\n",
      "6 / 15\n",
      "7 / 15\n",
      "8 / 15\n",
      "9 / 15\n",
      "10 / 15\n",
      "11 / 15\n",
      "12 / 15\n",
      "13 / 15\n",
      "14 / 15\n",
      "15 / 15\n",
      "ours spatial_elas\n",
      "0 / 15\n",
      "1 / 15\n",
      "2 / 15\n",
      "3 / 15\n",
      "4 / 15\n",
      "5 / 15\n",
      "6 / 15\n",
      "7 / 15\n",
      "8 / 15\n",
      "9 / 15\n",
      "10 / 15\n",
      "11 / 15\n",
      "12 / 15\n",
      "13 / 15\n",
      "14 / 15\n",
      "15 / 15\n"
     ]
    }
   ],
   "source": [
    "all_data_output = 'E:/REGISTRATION_SOFTWARE/algorithm/cell_level_regist/paper/output_data/our_pipeline'\n",
    "mark_data = 'drosophila_embryo' \n",
    "mtd_li = ['PASTE', 'PASTE2', 'ours']\n",
    "output_img_dir = None \n",
    "pixel_size = 1\n",
    "df_droso_embryo = gen_df_dif_method(all_data_output, mark_data, mtd_li, pixel_size, output_img_dir)"
   ]
  },
  {
   "cell_type": "code",
   "execution_count": 41,
   "id": "a8f201e0",
   "metadata": {
    "collapsed": true
   },
   "outputs": [
    {
     "data": {
      "text/html": [
       "<div>\n",
       "<style scoped>\n",
       "    .dataframe tbody tr th:only-of-type {\n",
       "        vertical-align: middle;\n",
       "    }\n",
       "\n",
       "    .dataframe tbody tr th {\n",
       "        vertical-align: top;\n",
       "    }\n",
       "\n",
       "    .dataframe thead th {\n",
       "        text-align: right;\n",
       "    }\n",
       "</style>\n",
       "<table border=\"1\" class=\"dataframe\">\n",
       "  <thead>\n",
       "    <tr style=\"text-align: right;\">\n",
       "      <th></th>\n",
       "      <th>spatial</th>\n",
       "      <th>spatial_rigid</th>\n",
       "      <th>spatial_elas</th>\n",
       "    </tr>\n",
       "  </thead>\n",
       "  <tbody>\n",
       "    <tr>\n",
       "      <th>0</th>\n",
       "      <td>0.717262</td>\n",
       "      <td>0.719743</td>\n",
       "      <td>0.727472</td>\n",
       "    </tr>\n",
       "    <tr>\n",
       "      <th>1</th>\n",
       "      <td>0.718100</td>\n",
       "      <td>0.726535</td>\n",
       "      <td>0.716282</td>\n",
       "    </tr>\n",
       "    <tr>\n",
       "      <th>2</th>\n",
       "      <td>0.676091</td>\n",
       "      <td>0.659998</td>\n",
       "      <td>0.712193</td>\n",
       "    </tr>\n",
       "    <tr>\n",
       "      <th>3</th>\n",
       "      <td>0.737770</td>\n",
       "      <td>0.733141</td>\n",
       "      <td>0.709541</td>\n",
       "    </tr>\n",
       "    <tr>\n",
       "      <th>4</th>\n",
       "      <td>0.672332</td>\n",
       "      <td>0.675452</td>\n",
       "      <td>0.701196</td>\n",
       "    </tr>\n",
       "    <tr>\n",
       "      <th>5</th>\n",
       "      <td>0.572935</td>\n",
       "      <td>0.575019</td>\n",
       "      <td>0.511452</td>\n",
       "    </tr>\n",
       "    <tr>\n",
       "      <th>6</th>\n",
       "      <td>0.392676</td>\n",
       "      <td>0.374299</td>\n",
       "      <td>0.459923</td>\n",
       "    </tr>\n",
       "    <tr>\n",
       "      <th>7</th>\n",
       "      <td>0.492782</td>\n",
       "      <td>0.506529</td>\n",
       "      <td>0.518709</td>\n",
       "    </tr>\n",
       "    <tr>\n",
       "      <th>8</th>\n",
       "      <td>0.476442</td>\n",
       "      <td>0.471230</td>\n",
       "      <td>0.496010</td>\n",
       "    </tr>\n",
       "    <tr>\n",
       "      <th>9</th>\n",
       "      <td>0.436798</td>\n",
       "      <td>0.427405</td>\n",
       "      <td>0.537378</td>\n",
       "    </tr>\n",
       "    <tr>\n",
       "      <th>10</th>\n",
       "      <td>0.429013</td>\n",
       "      <td>0.423042</td>\n",
       "      <td>0.548210</td>\n",
       "    </tr>\n",
       "    <tr>\n",
       "      <th>11</th>\n",
       "      <td>0.365140</td>\n",
       "      <td>0.397529</td>\n",
       "      <td>0.534268</td>\n",
       "    </tr>\n",
       "    <tr>\n",
       "      <th>12</th>\n",
       "      <td>0.474638</td>\n",
       "      <td>0.485012</td>\n",
       "      <td>0.540142</td>\n",
       "    </tr>\n",
       "    <tr>\n",
       "      <th>13</th>\n",
       "      <td>0.441997</td>\n",
       "      <td>0.471677</td>\n",
       "      <td>0.480484</td>\n",
       "    </tr>\n",
       "    <tr>\n",
       "      <th>14</th>\n",
       "      <td>0.399742</td>\n",
       "      <td>0.381645</td>\n",
       "      <td>0.427793</td>\n",
       "    </tr>\n",
       "  </tbody>\n",
       "</table>\n",
       "</div>"
      ],
      "text/plain": [
       "     spatial  spatial_rigid  spatial_elas\n",
       "0   0.717262       0.719743      0.727472\n",
       "1   0.718100       0.726535      0.716282\n",
       "2   0.676091       0.659998      0.712193\n",
       "3   0.737770       0.733141      0.709541\n",
       "4   0.672332       0.675452      0.701196\n",
       "5   0.572935       0.575019      0.511452\n",
       "6   0.392676       0.374299      0.459923\n",
       "7   0.492782       0.506529      0.518709\n",
       "8   0.476442       0.471230      0.496010\n",
       "9   0.436798       0.427405      0.537378\n",
       "10  0.429013       0.423042      0.548210\n",
       "11  0.365140       0.397529      0.534268\n",
       "12  0.474638       0.485012      0.540142\n",
       "13  0.441997       0.471677      0.480484\n",
       "14  0.399742       0.381645      0.427793"
      ]
     },
     "execution_count": 41,
     "metadata": {},
     "output_type": "execute_result"
    }
   ],
   "source": [
    "df_droso_embryo"
   ]
  },
  {
   "cell_type": "code",
   "execution_count": 56,
   "id": "7f8ee77a",
   "metadata": {},
   "outputs": [
    {
     "data": {
      "text/plain": [
       "Text(0, 0.5, 'MSSIM score')"
      ]
     },
     "execution_count": 56,
     "metadata": {},
     "output_type": "execute_result"
    },
    {
     "data": {
      "image/png": "[encoded data removed]",
      "text/plain": [
       "<Figure size 1000x500 with 1 Axes>"
      ]
     },
     "metadata": {
      "needs_background": "light"
     },
     "output_type": "display_data"
    }
   ],
   "source": [
    "width_ = 0.2\n",
    "df_ind_li = [4,6,8,9,10,11,12]\n",
    "mtd2col = {'spatial_rigid': 'tan','spatial_elas':'cornflowerblue'}\n",
    "\n",
    "def int2order(ind):\n",
    "    if ind == 1:\n",
    "        return '$1^{%02s}$' % ('st')\n",
    "    elif ind == 2:\n",
    "        return '$2^{%02s}$' % ('nd')\n",
    "    elif ind == 3:\n",
    "        return '$3^{%02s}$' % ('rd')\n",
    "    else:\n",
    "        return '$%01d^{%02s}$' % (ind, 'th')\n",
    "    \n",
    "plt.figure(figsize=(5,2.5), dpi=200)\n",
    "df = df_droso_embryo.loc[df_ind_li].reset_index()\n",
    "for i, col in enumerate(df.columns.tolist()[2:]):\n",
    "    plt.bar(df.index + i*width_, \n",
    "             df[col], \n",
    "             width=width_, \n",
    "             label=col.split('_')[1], \n",
    "             color=mtd2col[col],\n",
    "           alpha=0.8)\n",
    "\n",
    "plt.legend(loc='upper right')\n",
    "\n",
    "plt.xticks(np.arange(0.2, 0.81, 0.2))\n",
    "plt.ylim(0.2, 0.8)\n",
    "\n",
    "plt.xticks(ticks=df.index+width_, labels=[' & '.join([int2order(ind+1), int2order(ind+2)]) for ind in df_ind_li], fontname='Arial', rotation=20)\n",
    "plt.ylabel('MSSIM score', fontname='Arial')\n",
    "\n",
    "# plt.ylabel('Pair')"
   ]
  },
  {
   "cell_type": "code",
   "execution_count": 37,
   "id": "12364c38",
   "metadata": {
    "collapsed": true
   },
   "outputs": [
    {
     "data": {
      "text/plain": [
       "Text(0.5, 0, 'score')"
      ]
     },
     "execution_count": 37,
     "metadata": {},
     "output_type": "execute_result"
    },
    {
     "data": {
      "image/png": "[encoded data removed]",
      "text/plain": [
       "<Figure size 1000x1000 with 1 Axes>"
      ]
     },
     "metadata": {
      "needs_background": "light"
     },
     "output_type": "display_data"
    }
   ],
   "source": [
    "width_ = 0.2\n",
    "df_ind_li = [4,6,8,9,10,11,12]\n",
    "mtd2col = {'ours': 'cornflowerblue', 'ours_ablation': 'tan', 'PASTE': 'darksalmon', 'PASTE2': 'gold'}\n",
    "\n",
    "def int2order(ind):\n",
    "    if ind == 1:\n",
    "        return '$1^{%02s}$' % ('st')\n",
    "    elif ind == 2:\n",
    "        return '$2^{%02s}$' % ('nd')\n",
    "    elif ind == 3:\n",
    "        return '$3^{%02s}$' % ('rd')\n",
    "    else:\n",
    "        return '$%01d^{%02s}$' % (ind, 'th')\n",
    "    \n",
    "plt.figure(figsize=(5,5), dpi=200)\n",
    "df = df_droso_embryo.loc[df_ind_li].reset_index()\n",
    "for i, col in enumerate(df.columns.tolist()[1:]):\n",
    "    plt.barh( -1 * (df.index + i*width_), \n",
    "             df[col], \n",
    "             height=width_, \n",
    "             label=col, \n",
    "             color=mtd2col[col])\n",
    "\n",
    "plt.legend(loc='center right')\n",
    "\n",
    "plt.xticks(np.arange(0.2, 0.81, 0.2))\n",
    "plt.xlim(0.2, 0.8)\n",
    "\n",
    "plt.yticks(ticks=-1 * (df.index+width_), labels=[' & '.join([int2order(ind+1), int2order(ind+2)]) for ind in df_ind_li], fontname='Arial', rotation=70)\n",
    "plt.xlabel('score', fontname='Arial')\n",
    "# plt.ylabel('Pair')"
   ]
  },
  {
   "cell_type": "code",
   "execution_count": 13,
   "id": "a63fe335",
   "metadata": {
    "collapsed": true
   },
   "outputs": [
    {
     "data": {
      "text/plain": [
       "['index', 'PASTE', 'PASTE2', 'ours']"
      ]
     },
     "execution_count": 13,
     "metadata": {},
     "output_type": "execute_result"
    }
   ],
   "source": [
    "df.columns.tolist()"
   ]
  },
  {
   "cell_type": "code",
   "execution_count": null,
   "id": "c840b9c9",
   "metadata": {},
   "outputs": [],
   "source": [
    "out_dir  = 'E:/REGISTRATION_SOFTWARE/algorithm/cell_level_regist/paper/result_analysis/SSIM'  # change this to your directory to save the csv file, in order to reproduce figure in the paper\n",
    "df_droso_embryo.to_csv(os.path.join(out_dir, 'drosophila_embryo_dif_regis.csv'))"
   ]
  },
  {
   "cell_type": "markdown",
   "id": "a4fa90df",
   "metadata": {},
   "source": [
    "##### Calculate SSIM of raw data, of data after rigid registration, and of data after elastic registration, of drosophila larva"
   ]
  },
  {
   "cell_type": "code",
   "execution_count": 25,
   "id": "a5081834",
   "metadata": {
    "collapsed": true
   },
   "outputs": [
    {
     "name": "stdout",
     "output_type": "stream",
     "text": [
      "spatial\n",
      "0 / 15\n",
      "1 / 15\n",
      "2 / 15\n",
      "3 / 15\n",
      "4 / 15\n",
      "5 / 15\n",
      "6 / 15\n",
      "7 / 15\n",
      "8 / 15\n",
      "9 / 15\n",
      "10 / 15\n",
      "11 / 15\n",
      "12 / 15\n",
      "13 / 15\n",
      "14 / 15\n",
      "15 / 15\n",
      "spatial_rigid\n",
      "0 / 15\n",
      "1 / 15\n",
      "2 / 15\n",
      "3 / 15\n",
      "4 / 15\n",
      "5 / 15\n",
      "6 / 15\n",
      "7 / 15\n",
      "8 / 15\n",
      "9 / 15\n",
      "10 / 15\n",
      "11 / 15\n",
      "12 / 15\n",
      "13 / 15\n",
      "14 / 15\n",
      "15 / 15\n",
      "spatial_elas\n",
      "0 / 15\n",
      "1 / 15\n",
      "2 / 15\n",
      "3 / 15\n",
      "4 / 15\n",
      "5 / 15\n",
      "6 / 15\n",
      "7 / 15\n",
      "8 / 15\n",
      "9 / 15\n",
      "10 / 15\n",
      "11 / 15\n",
      "12 / 15\n",
      "13 / 15\n",
      "14 / 15\n",
      "15 / 15\n"
     ]
    }
   ],
   "source": [
    "all_data_output = 'E:/REGISTRATION_SOFTWARE/algorithm/cell_level_regist/paper/output_data/our_pipeline'\n",
    "mark_data = 'drosophila_larva'\n",
    "mtd = 'ours'\n",
    "output_img_dir = None\n",
    "# recommended pixel_size: math.sqrt(2) * binset_size todo: 写入函数\n",
    "# fruitfly_embryo: pixel_size=1\n",
    "# fruitfly_larva: pixel_size=3.5\n",
    "# DLPFC: pixel_size=213\n",
    "pixel_size = 3.5\n",
    "df_droso_larva = gen_df_dif_regis(all_data_output, mark_data, mtd, pixel_size, output_img_dir)"
   ]
  },
  {
   "cell_type": "code",
   "execution_count": 28,
   "id": "cbead775",
   "metadata": {
    "collapsed": true
   },
   "outputs": [
    {
     "data": {
      "text/plain": [
       "Text(0.5, 0, 'score')"
      ]
     },
     "execution_count": 28,
     "metadata": {},
     "output_type": "execute_result"
    },
    {
     "data": {
      "image/png": "[encoded data removed]",
      "text/plain": [
       "<Figure size 500x1000 with 1 Axes>"
      ]
     },
     "metadata": {
      "needs_background": "light"
     },
     "output_type": "display_data"
    }
   ],
   "source": [
    "width_ = 0.2\n",
    "df_ind_li = [7,8,9,10]\n",
    "ty2col = {'rigid': 'tan',\n",
    "                'elas':'cornflowerblue'}\n",
    "def int2order(ind):\n",
    "    if ind == 1:\n",
    "        return '$1^{%02s}$' % ('st')\n",
    "    elif ind == 2:\n",
    "        return '$2^{%02s}$' % ('nd')\n",
    "    elif ind == 3:\n",
    "        return '$3^{%02s}$' % ('rd')\n",
    "    else:\n",
    "        return '$%01d^{%02s}$' % (ind, 'th')\n",
    "    \n",
    "plt.figure(figsize=(2.5,5), dpi=200)\n",
    "df = df_droso_larva.loc[df_ind_li].reset_index()\n",
    "plt.barh(-1 * (df.index-width_), df.spatial_rigid, height=width_, label='rigid', color=ty2col['rigid'], alpha=0.8)\n",
    "plt.barh(-1 * (df.index), df.spatial_elas, height=width_, label='elastic', color=ty2col['elas'], alpha=0.8)\n",
    "\n",
    "# plt.legend(loc='upper right')\n",
    "\n",
    "plt.xticks(np.arange(0.5, 0.81, 0.1))\n",
    "plt.xlim(0.48, 0.8)\n",
    "\n",
    "plt.yticks(ticks=-1 * (df.index-0.5*width_), labels=[' & '.join([int2order(ind+1), int2order(ind+2)]) for ind in df_ind_li], fontname='Arial', rotation=-90)\n",
    "plt.ylim(-1 * (df.index.max()-0.5*width_+0.7), -1 * (-0.5*width_-0.7))\n",
    "plt.xlabel('score', fontname='Arial')\n",
    "# plt.ylabel('Pair')"
   ]
  },
  {
   "cell_type": "code",
   "execution_count": null,
   "id": "29aa750a",
   "metadata": {},
   "outputs": [],
   "source": [
    "df.index.max()"
   ]
  },
  {
   "cell_type": "code",
   "execution_count": null,
   "id": "4c414a03",
   "metadata": {},
   "outputs": [],
   "source": [
    "out_dir  = 'E:/REGISTRATION_SOFTWARE/algorithm/cell_level_regist/paper/result_analysis/SSIM'  # change this to your directory to save the csv file, in order to reproduce figure in the paper\n",
    "df_droso_larva.to_csv(os.path.join(out_dir, 'drosophila_larva_dif_regis.csv'))"
   ]
  },
  {
   "cell_type": "markdown",
   "id": "28a2cce0",
   "metadata": {},
   "source": [
    "##### Calculate SSIM of mouse embryo (E11.5), by different methods"
   ]
  },
  {
   "cell_type": "code",
   "execution_count": null,
   "id": "eb585d39",
   "metadata": {},
   "outputs": [],
   "source": [
    "all_data_output = 'E:/REGISTRATION_SOFTWARE/algorithm/cell_level_regist/paper/output_data/our_pipeline'\n",
    "mark_data = 'mouse_embryo_E11.5'\n",
    "mtd_li = ['PASTE', 'PASTE2', 'ours']\n",
    "output_img_dir = 'E:/REGISTRATION_SOFTWARE/algorithm/cell_level_regist/paper/result_analysis/SSIM/ctype_img_mouse_embryo_E11.5'# None\n",
    "# recommended pixel_size: math.sqrt(2) * binset_size todo: 写入函数\n",
    "# fruitfly_embryo: pixel_size=1\n",
    "# fruitfly_larva: pixel_size=3.5\n",
    "# DLPFC: pixel_size=213\n",
    "pixel_size = 100\n",
    "df_mouse_embryo = gen_df_dif_method(all_data_output, mark_data, mtd_li, pixel_size, output_img_dir)"
   ]
  },
  {
   "cell_type": "code",
   "execution_count": null,
   "id": "057f102b",
   "metadata": {},
   "outputs": [],
   "source": [
    "df_mouse_embryo"
   ]
  },
  {
   "cell_type": "code",
   "execution_count": null,
   "id": "d89a049a",
   "metadata": {},
   "outputs": [],
   "source": [
    "out_dir  = 'E:/REGISTRATION_SOFTWARE/algorithm/cell_level_regist/paper/result_analysis/SSIM'  # change this to your directory to save the csv file, in order to reproduce figure in the paper\n",
    "df_mouse_embryo.to_csv(os.path.join(out_dir, 'mouse_embryo_dif_mtd.csv'))"
   ]
  },
  {
   "cell_type": "markdown",
   "id": "1420275f",
   "metadata": {},
   "source": [
    "##### Calculate SSIM of abradopsis leaves, by different methods"
   ]
  },
  {
   "cell_type": "code",
   "execution_count": null,
   "id": "dddf0ba0",
   "metadata": {},
   "outputs": [],
   "source": [
    "all_data_output = 'E:/REGISTRATION_SOFTWARE/algorithm/cell_level_regist/paper/output_data/our_pipeline'\n",
    "mark_data = 'abra_leaves'\n",
    "mtd_li = ['PASTE', 'ours', 'PASTE2']\n",
    "output_img_dir = 'E:/REGISTRATION_SOFTWARE/algorithm/cell_level_regist/paper/result_analysis/SSIM/ctype_img_abra_leaves'# None\n",
    "# recommended pixel_size: math.sqrt(2) * binset_size todo: 写入函数\n",
    "# fruitfly_embryo: pixel_size=1\n",
    "# fruitfly_larva: pixel_size=3.5\n",
    "# DLPFC: pixel_size=213\n",
    "pixel_size = 50\n",
    "df_abra_leaves = gen_df_dif_method(all_data_output, mark_data, mtd_li, pixel_size, output_img_dir, ctype_col='cell_type')"
   ]
  },
  {
   "cell_type": "code",
   "execution_count": null,
   "id": "3ff5ad3c",
   "metadata": {},
   "outputs": [],
   "source": [
    "df_abra_leaves\n",
    "\n",
    "# 黑色部分过多，导致SSIM虚高"
   ]
  },
  {
   "cell_type": "markdown",
   "id": "ea86db77",
   "metadata": {},
   "source": [
    "##### Calculate SSIM of abradopsis leaves, by different methods"
   ]
  },
  {
   "cell_type": "code",
   "execution_count": null,
   "id": "d01d3b48",
   "metadata": {},
   "outputs": [],
   "source": [
    "all_data_output = 'E:/REGISTRATION_SOFTWARE/algorithm/cell_level_regist/paper/output_data/our_pipeline'\n",
    "mark_data = 'drosophila_embryo'\n",
    "mtd_li = ['PASTE', 'ours', 'PASTE2']\n",
    "output_img_dir = None\n",
    "# recommended pixel_size: math.sqrt(2) * binset_size todo: 写入函数\n",
    "# fruitfly_embryo: pixel_size=1\n",
    "# fruitfly_larva: pixel_size=3.5\n",
    "# DLPFC: pixel_size=213\n",
    "pixel_size = 1\n",
    "df_dro_embryo = gen_df_dif_method(all_data_output, mark_data, mtd_li, pixel_size, output_img_dir, ctype_col='annotation')"
   ]
  },
  {
   "cell_type": "code",
   "execution_count": null,
   "id": "5cdfb5bb",
   "metadata": {},
   "outputs": [],
   "source": [
    "df_dro_embryo"
   ]
  },
  {
   "cell_type": "code",
   "execution_count": null,
   "id": "7c44fba0",
   "metadata": {},
   "outputs": [],
   "source": [
    "out_dir  = 'E:/REGISTRATION_SOFTWARE/algorithm/cell_level_regist/paper/result_analysis/SSIM'  # change this to your directory to save the csv file, in order to reproduce figure in the paper\n",
    "df_dro_embryo.to_csv(os.path.join(out_dir, 'drosophila_embryo_dif_mtd.csv'))"
   ]
  },
  {
   "cell_type": "markdown",
   "id": "efd1f46e",
   "metadata": {},
   "source": [
    "##### Calculate SSIM of mouse brain, by different methods"
   ]
  },
  {
   "cell_type": "code",
   "execution_count": null,
   "id": "6d89b420",
   "metadata": {},
   "outputs": [],
   "source": [
    "all_data_output = 'E:/REGISTRATION_SOFTWARE/algorithm/cell_level_regist/paper/output_data/our_pipeline'\n",
    "mark_data = 'mouse_brain'\n",
    "mtd_li = ['PASTE', 'PASTE2', 'ours_sigma0.3']\n",
    "output_img_dir =  None\n",
    "# recommended pixel_size: math.sqrt(2) * binset_size todo: 写入函数\n",
    "# fruitfly_embryo: pixel_size=1\n",
    "# fruitfly_larva: pixel_size=3.5\n",
    "# DLPFC: pixel_size=213\n",
    "# mouse embryo: pixel)_size=100\n",
    "pixel_size = 400\n",
    "df= gen_df_dif_method(all_data_output, mark_data, mtd_li, pixel_size, output_img_dir)"
   ]
  },
  {
   "cell_type": "code",
   "execution_count": null,
   "id": "1f44b03b",
   "metadata": {},
   "outputs": [],
   "source": [
    "out_dir  = 'E:/REGISTRATION_SOFTWARE/algorithm/cell_level_regist/paper/result_analysis/SSIM'  # change this to your directory to save the csv file, in order to reproduce figure in the paper\n",
    "df.to_csv(os.path.join(out_dir, 'mouse_brain_dif_mtd.csv'))"
   ]
  },
  {
   "cell_type": "code",
   "execution_count": null,
   "id": "7706f768",
   "metadata": {},
   "outputs": [],
   "source": [
    "df.columns"
   ]
  },
  {
   "cell_type": "code",
   "execution_count": null,
   "id": "052b4741",
   "metadata": {
    "scrolled": true
   },
   "outputs": [],
   "source": [
    "plt.figure(figsize=(3,5), dpi=200)\n",
    "bp = plt.boxplot(df.iloc[np.r_[7,8, 16:21, 24,25,27,28]], \n",
    "            labels=['PASTE', 'PASTE2', 'ours'],\n",
    "            sym='.',\n",
    "            whis=0.5,\n",
    "            patch_artist=True)\n",
    "\n",
    "for patch in bp['boxes']:\n",
    "    patch.set_facecolor('gray')\n",
    "    \n",
    "for median in bp['medians']:\n",
    "    median.set_color('#E64B35FF')\n",
    "    \n",
    "# plt.title('MSSIM of structural \\nconsistent pairs', fontsize=16, font='Arial', weight='bold')\n",
    "plt.ylabel('MSSIM', fontsize=14, font='Arial')\n",
    "plt.xticks(fontsize=12, font='Arial')\n",
    "plt.yticks(fontsize=12, font='Arial')"
   ]
  },
  {
   "cell_type": "markdown",
   "id": "a0cab4df",
   "metadata": {},
   "source": [
    "##### Calculate SSIM of mouse hippocampus, by different methods"
   ]
  },
  {
   "cell_type": "code",
   "execution_count": null,
   "id": "834e62a3",
   "metadata": {},
   "outputs": [],
   "source": [
    "all_data_output = 'E:/REGISTRATION_SOFTWARE/algorithm/cell_level_regist/paper/output_data/our_pipeline'\n",
    "mark_data = 'mouse_hipp'\n",
    "mtd_li = ['PASTE_0_1_normed', 'PASTE2_0_1_normed', 'ours_0_1_normed']\n",
    "output_img_dir =  None\n",
    "# recommended pixel_size: math.sqrt(2) * binset_size todo: 写入函数\n",
    "# fruitfly_embryo: pixel_size=1\n",
    "# fruitfly_larva: pixel_size=3.5\n",
    "# DLPFC: pixel_size=213\n",
    "# mouse embryo: pixel)_size=100\n",
    "pixel_size = 100\n",
    "df= gen_df_dif_method(all_data_output, mark_data, mtd_li, pixel_size, output_img_dir)"
   ]
  },
  {
   "cell_type": "code",
   "execution_count": null,
   "id": "965a43d2",
   "metadata": {},
   "outputs": [],
   "source": [
    "df"
   ]
  },
  {
   "cell_type": "code",
   "execution_count": null,
   "id": "9a7e5b90",
   "metadata": {},
   "outputs": [],
   "source": [
    "all_data_output = 'E:/REGISTRATION_SOFTWARE/algorithm/cell_level_regist/paper/output_data/our_pipeline'\n",
    "mark_data = 'mouse_hipp'\n",
    "mtd = 'ours_0_1_normed'\n",
    "output_img_dir = None\n",
    "# recommended pixel_size: math.sqrt(2) * binset_size todo: 写入函数\n",
    "# fruitfly_embryo: pixel_size=1\n",
    "# fruitfly_larva: pixel_size=3.5\n",
    "# DLPFC: pixel_size=213\n",
    "pixel_size = 100\n",
    "df = gen_df_dif_regis(all_data_output, mark_data, mtd, pixel_size, output_img_dir)"
   ]
  },
  {
   "cell_type": "code",
   "execution_count": null,
   "id": "1ad25c5b",
   "metadata": {},
   "outputs": [],
   "source": [
    "def  plot_SSIM(mssim):\n",
    "    \"\"\"\n",
    "    \n",
    "    input:\n",
    "    mssim: {'PASTE': float[0,1], 'PASTE2':float[0,1], 'ours': float[0,1]}\n",
    "    \"\"\"\n",
    "    plt.figure(figsize=(5, 4), dpi=100)\n",
    "    \n",
    "    plt.gca().bar(mssim.keys(),  mssim.values(), width=0.3, color='#F39B7FFF')\n",
    "    \n",
    "#     ticks =  plt.gca().get_yticks()\n",
    "#     plt.gca().set_yticklabels([round(abs(tick), 2) for tick in ticks])\n",
    "    \n",
    "    plt.ylim(0, 0.7)\n",
    "    plt.xticks(fontsize=12, font='Arial')\n",
    "    plt.yticks(fontsize=12, font='Arial')\n",
    "\n",
    "col2show = {'spatial': 'pre-registered', 'spatial_rigid': 'ours(rigid result)', 'spatial_elas': 'ours'}\n",
    "regis2ssim = {k:v for k, v in zip([col2show[col] for col in df.columns.tolist()], list(df.iloc[0]))}\n",
    "plot_SSIM(regis2ssim)"
   ]
  },
  {
   "cell_type": "code",
   "execution_count": null,
   "id": "002a0a9b",
   "metadata": {},
   "outputs": [],
   "source": [
    "regis2ssim = {k:v for k, v in zip(df.columns.tolist(), list(df.iloc[0]))}\n",
    "regis2ssim"
   ]
  },
  {
   "cell_type": "code",
   "execution_count": null,
   "id": "318950b3",
   "metadata": {},
   "outputs": [],
   "source": [
    "{k:v for k, v in zip([df.columns, df.iloc[0]])}"
   ]
  }
 ],
 "metadata": {
  "kernelspec": {
   "display_name": "Python 3 (ipykernel)",
   "language": "python",
   "name": "python3"
  },
  "language_info": {
   "codemirror_mode": {
    "name": "ipython",
    "version": 3
   },
   "file_extension": ".py",
   "mimetype": "text/x-python",
   "name": "python",
   "nbconvert_exporter": "python",
   "pygments_lexer": "ipython3",
   "version": "3.8.13"
  }
 },
 "nbformat": 4,
 "nbformat_minor": 5
}
